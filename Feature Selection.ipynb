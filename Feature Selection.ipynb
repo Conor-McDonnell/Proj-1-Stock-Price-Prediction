{
 "cells": [
  {
   "cell_type": "markdown",
   "metadata": {},
   "source": [
    "# Feature Selection"
   ]
  },
  {
   "cell_type": "code",
   "execution_count": 1,
   "metadata": {
    "ExecuteTime": {
     "end_time": "2021-09-28T15:30:14.171345Z",
     "start_time": "2021-09-28T15:30:11.210838Z"
    }
   },
   "outputs": [],
   "source": [
    "import pandas                    as pd\n",
    "import seaborn                   as sns\n",
    "sns.set_style(\"darkgrid\")\n",
    "import matplotlib.pyplot         as plt\n",
    "import numpy                     as np\n",
    "import datetime                  as datetime\n",
    "\n",
    "import warnings\n",
    "warnings.filterwarnings(\"ignore\")\n",
    "\n",
    "from boruta                     import BorutaPy\n",
    "from sklearn.ensemble           import RandomForestRegressor\n",
    "from sklearn                    import ensemble        as en\n",
    "from sklearn.tree               import DecisionTreeClassifier "
   ]
  },
  {
   "cell_type": "code",
   "execution_count": 2,
   "metadata": {
    "ExecuteTime": {
     "end_time": "2021-09-28T15:30:14.232690Z",
     "start_time": "2021-09-28T15:30:14.175349Z"
    }
   },
   "outputs": [],
   "source": [
    "apple_prep = pd.read_pickle('data/apple_prep.pkl')\n",
    "boeing_prep = pd.read_pickle('data/boeing_prep.pkl')\n",
    "nike_prep = pd.read_pickle('data/nike_prep.pkl')"
   ]
  },
  {
   "cell_type": "code",
   "execution_count": 3,
   "metadata": {},
   "outputs": [
    {
     "data": {
      "text/html": [
       "<div>\n",
       "<style scoped>\n",
       "    .dataframe tbody tr th:only-of-type {\n",
       "        vertical-align: middle;\n",
       "    }\n",
       "\n",
       "    .dataframe tbody tr th {\n",
       "        vertical-align: top;\n",
       "    }\n",
       "\n",
       "    .dataframe thead th {\n",
       "        text-align: right;\n",
       "    }\n",
       "</style>\n",
       "<table border=\"1\" class=\"dataframe\">\n",
       "  <thead>\n",
       "    <tr style=\"text-align: right;\">\n",
       "      <th></th>\n",
       "      <th>date</th>\n",
       "      <th>open</th>\n",
       "      <th>high</th>\n",
       "      <th>low</th>\n",
       "      <th>close</th>\n",
       "      <th>adj_close</th>\n",
       "      <th>volume</th>\n",
       "      <th>year</th>\n",
       "      <th>month</th>\n",
       "      <th>day</th>\n",
       "      <th>week_of_year</th>\n",
       "      <th>day_of_week</th>\n",
       "      <th>day_of_week_number</th>\n",
       "      <th>close_open_variation</th>\n",
       "      <th>intraday_variation</th>\n",
       "      <th>daily_change</th>\n",
       "      <th>moving_average_10</th>\n",
       "      <th>moving_average_15</th>\n",
       "      <th>moving_average_50</th>\n",
       "    </tr>\n",
       "  </thead>\n",
       "  <tbody>\n",
       "    <tr>\n",
       "      <th>10184</th>\n",
       "      <td>2021-05-05</td>\n",
       "      <td>129.199997</td>\n",
       "      <td>130.449997</td>\n",
       "      <td>127.970001</td>\n",
       "      <td>128.100006</td>\n",
       "      <td>127.882790</td>\n",
       "      <td>84000900</td>\n",
       "      <td>2021</td>\n",
       "      <td>5</td>\n",
       "      <td>5</td>\n",
       "      <td>18</td>\n",
       "      <td>Wednesday</td>\n",
       "      <td>3</td>\n",
       "      <td>-0.851386</td>\n",
       "      <td>1.937951</td>\n",
       "      <td>0.001955</td>\n",
       "      <td>132.238001</td>\n",
       "      <td>132.832667</td>\n",
       "      <td>126.5440</td>\n",
       "    </tr>\n",
       "    <tr>\n",
       "      <th>10185</th>\n",
       "      <td>2021-05-06</td>\n",
       "      <td>127.889999</td>\n",
       "      <td>129.750000</td>\n",
       "      <td>127.129997</td>\n",
       "      <td>129.740005</td>\n",
       "      <td>129.520004</td>\n",
       "      <td>78128300</td>\n",
       "      <td>2021</td>\n",
       "      <td>5</td>\n",
       "      <td>6</td>\n",
       "      <td>18</td>\n",
       "      <td>Thursday</td>\n",
       "      <td>4</td>\n",
       "      <td>1.446560</td>\n",
       "      <td>2.060885</td>\n",
       "      <td>0.012802</td>\n",
       "      <td>132.018001</td>\n",
       "      <td>132.515334</td>\n",
       "      <td>126.6318</td>\n",
       "    </tr>\n",
       "    <tr>\n",
       "      <th>10186</th>\n",
       "      <td>2021-05-07</td>\n",
       "      <td>130.850006</td>\n",
       "      <td>131.259995</td>\n",
       "      <td>129.479996</td>\n",
       "      <td>130.210007</td>\n",
       "      <td>130.210007</td>\n",
       "      <td>78892700</td>\n",
       "      <td>2021</td>\n",
       "      <td>5</td>\n",
       "      <td>7</td>\n",
       "      <td>18</td>\n",
       "      <td>Friday</td>\n",
       "      <td>5</td>\n",
       "      <td>-0.489109</td>\n",
       "      <td>1.374729</td>\n",
       "      <td>0.003623</td>\n",
       "      <td>131.607001</td>\n",
       "      <td>132.252001</td>\n",
       "      <td>126.8162</td>\n",
       "    </tr>\n",
       "    <tr>\n",
       "      <th>10187</th>\n",
       "      <td>2021-05-10</td>\n",
       "      <td>129.410004</td>\n",
       "      <td>129.539993</td>\n",
       "      <td>126.809998</td>\n",
       "      <td>126.849998</td>\n",
       "      <td>126.849998</td>\n",
       "      <td>88071200</td>\n",
       "      <td>2021</td>\n",
       "      <td>5</td>\n",
       "      <td>10</td>\n",
       "      <td>19</td>\n",
       "      <td>Monday</td>\n",
       "      <td>1</td>\n",
       "      <td>-1.978213</td>\n",
       "      <td>2.152823</td>\n",
       "      <td>-0.025805</td>\n",
       "      <td>130.820001</td>\n",
       "      <td>131.719335</td>\n",
       "      <td>126.9280</td>\n",
       "    </tr>\n",
       "    <tr>\n",
       "      <th>10188</th>\n",
       "      <td>2021-05-11</td>\n",
       "      <td>123.500000</td>\n",
       "      <td>126.269997</td>\n",
       "      <td>122.769997</td>\n",
       "      <td>125.910004</td>\n",
       "      <td>125.910004</td>\n",
       "      <td>126053700</td>\n",
       "      <td>2021</td>\n",
       "      <td>5</td>\n",
       "      <td>11</td>\n",
       "      <td>19</td>\n",
       "      <td>Tuesday</td>\n",
       "      <td>2</td>\n",
       "      <td>1.951420</td>\n",
       "      <td>2.850859</td>\n",
       "      <td>-0.007410</td>\n",
       "      <td>129.972002</td>\n",
       "      <td>131.239335</td>\n",
       "      <td>126.8904</td>\n",
       "    </tr>\n",
       "  </tbody>\n",
       "</table>\n",
       "</div>"
      ],
      "text/plain": [
       "            date        open        high         low       close   adj_close  \\\n",
       "10184 2021-05-05  129.199997  130.449997  127.970001  128.100006  127.882790   \n",
       "10185 2021-05-06  127.889999  129.750000  127.129997  129.740005  129.520004   \n",
       "10186 2021-05-07  130.850006  131.259995  129.479996  130.210007  130.210007   \n",
       "10187 2021-05-10  129.410004  129.539993  126.809998  126.849998  126.849998   \n",
       "10188 2021-05-11  123.500000  126.269997  122.769997  125.910004  125.910004   \n",
       "\n",
       "          volume  year  month  day  week_of_year day_of_week  \\\n",
       "10184   84000900  2021      5    5            18   Wednesday   \n",
       "10185   78128300  2021      5    6            18    Thursday   \n",
       "10186   78892700  2021      5    7            18      Friday   \n",
       "10187   88071200  2021      5   10            19      Monday   \n",
       "10188  126053700  2021      5   11            19     Tuesday   \n",
       "\n",
       "       day_of_week_number  close_open_variation  intraday_variation  \\\n",
       "10184                   3             -0.851386            1.937951   \n",
       "10185                   4              1.446560            2.060885   \n",
       "10186                   5             -0.489109            1.374729   \n",
       "10187                   1             -1.978213            2.152823   \n",
       "10188                   2              1.951420            2.850859   \n",
       "\n",
       "       daily_change  moving_average_10  moving_average_15  moving_average_50  \n",
       "10184      0.001955         132.238001         132.832667           126.5440  \n",
       "10185      0.012802         132.018001         132.515334           126.6318  \n",
       "10186      0.003623         131.607001         132.252001           126.8162  \n",
       "10187     -0.025805         130.820001         131.719335           126.9280  \n",
       "10188     -0.007410         129.972002         131.239335           126.8904  "
      ]
     },
     "execution_count": 3,
     "metadata": {},
     "output_type": "execute_result"
    }
   ],
   "source": [
    "apple_prep.tail()"
   ]
  },
  {
   "cell_type": "markdown",
   "metadata": {},
   "source": [
    "## Split dataframe into training and test dataset\n"
   ]
  },
  {
   "cell_type": "markdown",
   "metadata": {
    "ExecuteTime": {
     "end_time": "2021-09-28T11:41:13.672199Z",
     "start_time": "2021-09-28T11:41:13.663203Z"
    }
   },
   "source": [
    "### Apple"
   ]
  },
  {
   "cell_type": "code",
   "execution_count": 4,
   "metadata": {
    "ExecuteTime": {
     "end_time": "2021-09-28T15:30:14.263634Z",
     "start_time": "2021-09-28T15:30:14.241625Z"
    }
   },
   "outputs": [
    {
     "name": "stdout",
     "output_type": "stream",
     "text": [
      "Min Date: 1980-12-12 00:00:00\n",
      "Max Date: 2021-05-11 00:00:00\n"
     ]
    }
   ],
   "source": [
    "print( 'Min Date: {}'.format(apple_prep['date'].min()))\n",
    "print( 'Max Date: {}'.format(apple_prep['date'].max()))"
   ]
  },
  {
   "cell_type": "markdown",
   "metadata": {},
   "source": [
    "#### One day split"
   ]
  },
  {
   "cell_type": "code",
   "execution_count": 5,
   "metadata": {
    "ExecuteTime": {
     "end_time": "2021-09-28T15:30:14.295612Z",
     "start_time": "2021-09-28T15:30:14.266612Z"
    }
   },
   "outputs": [
    {
     "data": {
      "text/plain": [
       "Timestamp('2021-05-10 00:00:00')"
      ]
     },
     "execution_count": 5,
     "metadata": {},
     "output_type": "execute_result"
    }
   ],
   "source": [
    "apple_prep['date'].max() - datetime.timedelta(days=1)"
   ]
  },
  {
   "cell_type": "code",
   "execution_count": null,
   "metadata": {},
   "outputs": [],
   "source": []
  },
  {
   "cell_type": "code",
   "execution_count": 6,
   "metadata": {
    "ExecuteTime": {
     "end_time": "2021-09-28T15:30:14.342139Z",
     "start_time": "2021-09-28T15:30:14.298592Z"
    }
   },
   "outputs": [
    {
     "name": "stdout",
     "output_type": "stream",
     "text": [
      "Training Min Date: 1980-12-12 00:00:00\n",
      "Training Max Date: 2021-05-07 00:00:00\n",
      "\n",
      "Test Min Date: 2021-05-10 00:00:00\n",
      "Test Max Date: 2021-05-11 00:00:00\n"
     ]
    }
   ],
   "source": [
    "# training dataset\n",
    "XA1_train = apple_prep[apple_prep['date'] < '2021-05-10']\n",
    "yA1_train = XA1_train['close']\n",
    "# test dataset\n",
    "XA1_test = apple_prep[apple_prep['date'] >= '2021-05-10']\n",
    "yA1_test = XA1_test['close']\n",
    "\n",
    "print( 'Training Min Date: {}'.format( XA1_train['date'].min() ) )\n",
    "print( 'Training Max Date: {}'.format( XA1_train['date'].max() ) )\n",
    "print( '\\nTest Min Date: {}'.format( XA1_test['date'].min() ) )\n",
    "print( 'Test Max Date: {}'.format( XA1_test['date'].max() ) )"
   ]
  },
  {
   "cell_type": "markdown",
   "metadata": {},
   "source": [
    "#### 7 days split"
   ]
  },
  {
   "cell_type": "code",
   "execution_count": 7,
   "metadata": {
    "ExecuteTime": {
     "end_time": "2021-09-28T15:30:14.374125Z",
     "start_time": "2021-09-28T15:30:14.351134Z"
    }
   },
   "outputs": [
    {
     "data": {
      "text/plain": [
       "Timestamp('2021-05-04 00:00:00')"
      ]
     },
     "execution_count": 7,
     "metadata": {},
     "output_type": "execute_result"
    }
   ],
   "source": [
    "apple_prep['date'].max() - datetime.timedelta(days=7)"
   ]
  },
  {
   "cell_type": "code",
   "execution_count": 8,
   "metadata": {
    "ExecuteTime": {
     "end_time": "2021-09-28T15:30:14.405105Z",
     "start_time": "2021-09-28T15:30:14.378118Z"
    }
   },
   "outputs": [
    {
     "name": "stdout",
     "output_type": "stream",
     "text": [
      "Training Min Date: 1980-12-12 00:00:00\n",
      "Training Max Date: 2021-05-03 00:00:00\n",
      "\n",
      "Test Min Date: 2021-05-04 00:00:00\n",
      "Test Max Date: 2021-05-11 00:00:00\n"
     ]
    }
   ],
   "source": [
    "# training dataset\n",
    "XA7_train = apple_prep[apple_prep['date'] < '2021-05-04']\n",
    "yA7_train = XA7_train['close']\n",
    "# test dataset\n",
    "XA7_test = apple_prep[apple_prep['date'] >= '2021-05-04']\n",
    "yA7_test = XA7_test['close']\n",
    "\n",
    "print( 'Training Min Date: {}'.format( XA7_train['date'].min() ) )\n",
    "print( 'Training Max Date: {}'.format( XA7_train['date'].max() ) )\n",
    "print( '\\nTest Min Date: {}'.format( XA7_test['date'].min() ) )\n",
    "print( 'Test Max Date: {}'.format( XA7_test['date'].max() ) )"
   ]
  },
  {
   "cell_type": "code",
   "execution_count": 9,
   "metadata": {},
   "outputs": [
    {
     "name": "stdout",
     "output_type": "stream",
     "text": [
      "Stored 'XA7_train' (DataFrame)\n",
      "Stored 'XA7_test' (DataFrame)\n"
     ]
    }
   ],
   "source": [
    "%store XA7_train\n",
    "%store XA7_test"
   ]
  },
  {
   "cell_type": "markdown",
   "metadata": {},
   "source": [
    "#### 30 days split"
   ]
  },
  {
   "cell_type": "code",
   "execution_count": 10,
   "metadata": {
    "ExecuteTime": {
     "end_time": "2021-09-28T15:30:14.437085Z",
     "start_time": "2021-09-28T15:30:14.410100Z"
    }
   },
   "outputs": [
    {
     "data": {
      "text/plain": [
       "Timestamp('2021-04-11 00:00:00')"
      ]
     },
     "execution_count": 10,
     "metadata": {},
     "output_type": "execute_result"
    }
   ],
   "source": [
    "apple_prep['date'].max() - datetime.timedelta(days=30)"
   ]
  },
  {
   "cell_type": "code",
   "execution_count": 11,
   "metadata": {
    "ExecuteTime": {
     "end_time": "2021-09-28T15:30:14.469065Z",
     "start_time": "2021-09-28T15:30:14.441082Z"
    }
   },
   "outputs": [
    {
     "name": "stdout",
     "output_type": "stream",
     "text": [
      "Training Min Date: 1980-12-12 00:00:00\n",
      "Training Max Date: 2021-05-03 00:00:00\n",
      "\n",
      "Test Min Date: 2021-05-04 00:00:00\n",
      "Test Max Date: 2021-05-11 00:00:00\n"
     ]
    }
   ],
   "source": [
    "# training dataset\n",
    "XA30_train = apple_prep[apple_prep['date'] < '2021-05-04']\n",
    "yA30_train = XA30_train['close']\n",
    "# test dataset\n",
    "XA30_test = apple_prep[apple_prep['date'] >= '2021-05-04']\n",
    "yA30_test = XA30_test['close']\n",
    "\n",
    "print( 'Training Min Date: {}'.format( XA30_train['date'].min() ) )\n",
    "print( 'Training Max Date: {}'.format( XA30_train['date'].max() ) )\n",
    "print( '\\nTest Min Date: {}'.format( XA30_test['date'].min() ) )\n",
    "print( 'Test Max Date: {}'.format( XA30_test['date'].max() ) )"
   ]
  },
  {
   "cell_type": "markdown",
   "metadata": {
    "ExecuteTime": {
     "end_time": "2021-09-28T13:07:47.694447Z",
     "start_time": "2021-09-28T13:07:47.691452Z"
    }
   },
   "source": [
    "#### 90 days split"
   ]
  },
  {
   "cell_type": "code",
   "execution_count": 12,
   "metadata": {
    "ExecuteTime": {
     "end_time": "2021-09-28T15:30:14.484058Z",
     "start_time": "2021-09-28T15:30:14.473064Z"
    }
   },
   "outputs": [
    {
     "data": {
      "text/plain": [
       "Timestamp('2021-02-10 00:00:00')"
      ]
     },
     "execution_count": 12,
     "metadata": {},
     "output_type": "execute_result"
    }
   ],
   "source": [
    "apple_prep['date'].max() - datetime.timedelta(days=90)"
   ]
  },
  {
   "cell_type": "code",
   "execution_count": 13,
   "metadata": {
    "ExecuteTime": {
     "end_time": "2021-09-28T15:30:14.516039Z",
     "start_time": "2021-09-28T15:30:14.488056Z"
    }
   },
   "outputs": [
    {
     "name": "stdout",
     "output_type": "stream",
     "text": [
      "Training Min Date: 1980-12-12 00:00:00\n",
      "Training Max Date: 2021-02-09 00:00:00\n",
      "\n",
      "Test Min Date: 2021-02-10 00:00:00\n",
      "Test Max Date: 2021-05-11 00:00:00\n"
     ]
    }
   ],
   "source": [
    "# training dataset\n",
    "XA90_train = apple_prep[apple_prep['date'] < '2021-02-10']\n",
    "yA90_train = XA90_train['close']\n",
    "# test dataset\n",
    "XA90_test = apple_prep[apple_prep['date'] >= '2021-02-10']\n",
    "yA90_test = XA90_test['close']\n",
    "\n",
    "print( 'Training Min Date: {}'.format( XA90_train['date'].min() ) )\n",
    "print( 'Training Max Date: {}'.format( XA90_train['date'].max() ) )\n",
    "print( '\\nTest Min Date: {}'.format( XA90_test['date'].min() ) )\n",
    "print( 'Test Max Date: {}'.format( XA90_test['date'].max() ) )"
   ]
  },
  {
   "cell_type": "markdown",
   "metadata": {
    "ExecuteTime": {
     "end_time": "2021-09-28T11:41:13.672199Z",
     "start_time": "2021-09-28T11:41:13.663203Z"
    }
   },
   "source": [
    "### Boeing"
   ]
  },
  {
   "cell_type": "code",
   "execution_count": 14,
   "metadata": {
    "ExecuteTime": {
     "end_time": "2021-09-28T15:30:14.534029Z",
     "start_time": "2021-09-28T15:30:14.520038Z"
    },
    "scrolled": true
   },
   "outputs": [
    {
     "name": "stdout",
     "output_type": "stream",
     "text": [
      "Min Date: 1962-01-02 00:00:00\n",
      "Max Date: 2021-05-11 00:00:00\n"
     ]
    }
   ],
   "source": [
    "print( 'Min Date: {}'.format(boeing_prep['date'].min()))\n",
    "print( 'Max Date: {}'.format(boeing_prep['date'].max()))"
   ]
  },
  {
   "cell_type": "markdown",
   "metadata": {},
   "source": [
    "#### One day split"
   ]
  },
  {
   "cell_type": "code",
   "execution_count": 15,
   "metadata": {
    "ExecuteTime": {
     "end_time": "2021-09-28T15:30:14.563013Z",
     "start_time": "2021-09-28T15:30:14.539025Z"
    }
   },
   "outputs": [
    {
     "data": {
      "text/plain": [
       "Timestamp('2021-05-10 00:00:00')"
      ]
     },
     "execution_count": 15,
     "metadata": {},
     "output_type": "execute_result"
    }
   ],
   "source": [
    "boeing_prep['date'].max() - datetime.timedelta(days=1)"
   ]
  },
  {
   "cell_type": "code",
   "execution_count": 16,
   "metadata": {
    "ExecuteTime": {
     "end_time": "2021-09-28T15:30:14.593996Z",
     "start_time": "2021-09-28T15:30:14.567011Z"
    }
   },
   "outputs": [
    {
     "name": "stdout",
     "output_type": "stream",
     "text": [
      "Training Min Date: 1962-01-02 00:00:00\n",
      "Training Max Date: 2021-05-07 00:00:00\n",
      "\n",
      "Test Min Date: 2021-05-10 00:00:00\n",
      "Test Max Date: 2021-05-11 00:00:00\n"
     ]
    }
   ],
   "source": [
    "# training dataset\n",
    "XB1_train = boeing_prep[boeing_prep['date'] < '2021-05-10']\n",
    "yB1_train = XB1_train['close']\n",
    "# test dataset\n",
    "XB1_test = boeing_prep[boeing_prep['date'] >= '2021-05-10']\n",
    "yB1_test = XB1_test['close']\n",
    "\n",
    "print( 'Training Min Date: {}'.format( XB1_train['date'].min() ) )\n",
    "print( 'Training Max Date: {}'.format( XB1_train['date'].max() ) )\n",
    "print( '\\nTest Min Date: {}'.format( XB1_test['date'].min() ) )\n",
    "print( 'Test Max Date: {}'.format( XB1_test['date'].max() ) )"
   ]
  },
  {
   "cell_type": "markdown",
   "metadata": {},
   "source": [
    "#### 7 days split"
   ]
  },
  {
   "cell_type": "code",
   "execution_count": 17,
   "metadata": {
    "ExecuteTime": {
     "end_time": "2021-09-28T15:30:14.609986Z",
     "start_time": "2021-09-28T15:30:14.596993Z"
    }
   },
   "outputs": [
    {
     "data": {
      "text/plain": [
       "Timestamp('2021-05-04 00:00:00')"
      ]
     },
     "execution_count": 17,
     "metadata": {},
     "output_type": "execute_result"
    }
   ],
   "source": [
    "boeing_prep['date'].max() - datetime.timedelta(days=7)"
   ]
  },
  {
   "cell_type": "code",
   "execution_count": 18,
   "metadata": {
    "ExecuteTime": {
     "end_time": "2021-09-28T15:30:14.640968Z",
     "start_time": "2021-09-28T15:30:14.612983Z"
    }
   },
   "outputs": [
    {
     "name": "stdout",
     "output_type": "stream",
     "text": [
      "Training Min Date: 1962-01-02 00:00:00\n",
      "Training Max Date: 2021-05-03 00:00:00\n",
      "\n",
      "Test Min Date: 2021-05-04 00:00:00\n",
      "Test Max Date: 2021-05-11 00:00:00\n"
     ]
    }
   ],
   "source": [
    "# training dataset\n",
    "XB7_train = boeing_prep[boeing_prep['date'] < '2021-05-04']\n",
    "yB7_train = XB7_train['close']\n",
    "# test dataset\n",
    "XB7_test = boeing_prep[boeing_prep['date'] >= '2021-05-04']\n",
    "yB7_test = XB7_test['close']\n",
    "\n",
    "print( 'Training Min Date: {}'.format( XB7_train['date'].min() ) )\n",
    "print( 'Training Max Date: {}'.format( XB7_train['date'].max() ) )\n",
    "print( '\\nTest Min Date: {}'.format( XB7_test['date'].min() ) )\n",
    "print( 'Test Max Date: {}'.format( XB7_test['date'].max() ) )"
   ]
  },
  {
   "cell_type": "markdown",
   "metadata": {},
   "source": [
    "#### 30 days split"
   ]
  },
  {
   "cell_type": "code",
   "execution_count": 19,
   "metadata": {
    "ExecuteTime": {
     "end_time": "2021-09-28T15:30:14.656960Z",
     "start_time": "2021-09-28T15:30:14.643968Z"
    }
   },
   "outputs": [
    {
     "data": {
      "text/plain": [
       "Timestamp('2021-04-11 00:00:00')"
      ]
     },
     "execution_count": 19,
     "metadata": {},
     "output_type": "execute_result"
    }
   ],
   "source": [
    "boeing_prep['date'].max() - datetime.timedelta(days=30)"
   ]
  },
  {
   "cell_type": "code",
   "execution_count": 20,
   "metadata": {
    "ExecuteTime": {
     "end_time": "2021-09-28T15:30:14.687942Z",
     "start_time": "2021-09-28T15:30:14.659958Z"
    }
   },
   "outputs": [
    {
     "name": "stdout",
     "output_type": "stream",
     "text": [
      "Training Min Date: 1962-01-02 00:00:00\n",
      "Training Max Date: 2021-04-09 00:00:00\n",
      "\n",
      "Test Min Date: 2021-04-12 00:00:00\n",
      "Test Max Date: 2021-05-11 00:00:00\n"
     ]
    }
   ],
   "source": [
    "# training dataset\n",
    "XB30_train = boeing_prep[boeing_prep['date'] < '2021-04-11']\n",
    "yB30_train = XB30_train['close']\n",
    "# test dataset\n",
    "XB30_test = boeing_prep[boeing_prep['date'] >= '2021-04-11']\n",
    "yB30_test = XB30_test['close']\n",
    "\n",
    "print( 'Training Min Date: {}'.format( XB30_train['date'].min() ) )\n",
    "print( 'Training Max Date: {}'.format( XB30_train['date'].max() ) )\n",
    "print( '\\nTest Min Date: {}'.format( XB30_test['date'].min() ) )\n",
    "print( 'Test Max Date: {}'.format( XB30_test['date'].max() ) )"
   ]
  },
  {
   "cell_type": "markdown",
   "metadata": {
    "ExecuteTime": {
     "end_time": "2021-09-28T13:07:47.694447Z",
     "start_time": "2021-09-28T13:07:47.691452Z"
    }
   },
   "source": [
    "#### 90 days split"
   ]
  },
  {
   "cell_type": "code",
   "execution_count": 21,
   "metadata": {
    "ExecuteTime": {
     "end_time": "2021-09-28T15:30:14.703932Z",
     "start_time": "2021-09-28T15:30:14.691939Z"
    }
   },
   "outputs": [
    {
     "data": {
      "text/plain": [
       "Timestamp('2021-02-10 00:00:00')"
      ]
     },
     "execution_count": 21,
     "metadata": {},
     "output_type": "execute_result"
    }
   ],
   "source": [
    "boeing_prep['date'].max() - datetime.timedelta(days=90)"
   ]
  },
  {
   "cell_type": "code",
   "execution_count": 22,
   "metadata": {
    "ExecuteTime": {
     "end_time": "2021-09-28T15:30:14.735913Z",
     "start_time": "2021-09-28T15:30:14.707929Z"
    }
   },
   "outputs": [
    {
     "name": "stdout",
     "output_type": "stream",
     "text": [
      "Training Min Date: 1962-01-02 00:00:00\n",
      "Training Max Date: 2021-02-09 00:00:00\n",
      "\n",
      "Test Min Date: 2021-02-10 00:00:00\n",
      "Test Max Date: 2021-05-11 00:00:00\n"
     ]
    }
   ],
   "source": [
    "# training dataset\n",
    "XB90_train = boeing_prep[boeing_prep['date'] < '2021-02-10']\n",
    "yB90_train = XB90_train['close']\n",
    "# test dataset\n",
    "XB90_test = boeing_prep[boeing_prep['date'] >= '2021-02-10']\n",
    "yB90_test = XB90_test['close']\n",
    "\n",
    "print( 'Training Min Date: {}'.format( XB90_train['date'].min() ) )\n",
    "print( 'Training Max Date: {}'.format( XB90_train['date'].max() ) )\n",
    "print( '\\nTest Min Date: {}'.format( XB90_test['date'].min() ) )\n",
    "print( 'Test Max Date: {}'.format( XB90_test['date'].max() ) )"
   ]
  },
  {
   "cell_type": "markdown",
   "metadata": {
    "ExecuteTime": {
     "end_time": "2021-09-28T11:41:13.672199Z",
     "start_time": "2021-09-28T11:41:13.663203Z"
    }
   },
   "source": [
    "### Nike"
   ]
  },
  {
   "cell_type": "code",
   "execution_count": 23,
   "metadata": {
    "ExecuteTime": {
     "end_time": "2021-09-28T15:30:14.751905Z",
     "start_time": "2021-09-28T15:30:14.743909Z"
    }
   },
   "outputs": [
    {
     "name": "stdout",
     "output_type": "stream",
     "text": [
      "Min Date: 1980-12-02 00:00:00\n",
      "Max Date: 2021-05-11 00:00:00\n"
     ]
    }
   ],
   "source": [
    "print( 'Min Date: {}'.format(nike_prep['date'].min()))\n",
    "print( 'Max Date: {}'.format(nike_prep['date'].max()))"
   ]
  },
  {
   "cell_type": "markdown",
   "metadata": {},
   "source": [
    "#### One day split"
   ]
  },
  {
   "cell_type": "code",
   "execution_count": 24,
   "metadata": {
    "ExecuteTime": {
     "end_time": "2021-09-28T15:30:14.767895Z",
     "start_time": "2021-09-28T15:30:14.756902Z"
    }
   },
   "outputs": [
    {
     "data": {
      "text/plain": [
       "Timestamp('2021-05-10 00:00:00')"
      ]
     },
     "execution_count": 24,
     "metadata": {},
     "output_type": "execute_result"
    }
   ],
   "source": [
    "nike_prep['date'].max() - datetime.timedelta(days=1)"
   ]
  },
  {
   "cell_type": "code",
   "execution_count": 25,
   "metadata": {
    "ExecuteTime": {
     "end_time": "2021-09-28T15:30:14.798879Z",
     "start_time": "2021-09-28T15:30:14.771893Z"
    }
   },
   "outputs": [
    {
     "name": "stdout",
     "output_type": "stream",
     "text": [
      "Training Min Date: 1980-12-02 00:00:00\n",
      "Training Max Date: 2021-05-07 00:00:00\n",
      "\n",
      "Test Min Date: 2021-05-10 00:00:00\n",
      "Test Max Date: 2021-05-11 00:00:00\n"
     ]
    }
   ],
   "source": [
    "# training dataset\n",
    "XN1_train = nike_prep[nike_prep['date'] < '2021-05-10']\n",
    "yN1_train = XN1_train['close']\n",
    "# test dataset\n",
    "XN1_test = nike_prep[nike_prep['date'] >= '2021-05-10']\n",
    "yN1_test = XN1_test['close']\n",
    "\n",
    "print( 'Training Min Date: {}'.format( XN1_train['date'].min() ) )\n",
    "print( 'Training Max Date: {}'.format( XN1_train['date'].max() ) )\n",
    "print( '\\nTest Min Date: {}'.format( XN1_test['date'].min() ) )\n",
    "print( 'Test Max Date: {}'.format( XN1_test['date'].max() ) )"
   ]
  },
  {
   "cell_type": "markdown",
   "metadata": {},
   "source": [
    "#### 7 days split"
   ]
  },
  {
   "cell_type": "code",
   "execution_count": 26,
   "metadata": {
    "ExecuteTime": {
     "end_time": "2021-09-28T15:30:14.814869Z",
     "start_time": "2021-09-28T15:30:14.801877Z"
    }
   },
   "outputs": [
    {
     "data": {
      "text/plain": [
       "Timestamp('2021-05-04 00:00:00')"
      ]
     },
     "execution_count": 26,
     "metadata": {},
     "output_type": "execute_result"
    }
   ],
   "source": [
    "nike_prep['date'].max() - datetime.timedelta(days=7)"
   ]
  },
  {
   "cell_type": "code",
   "execution_count": 27,
   "metadata": {
    "ExecuteTime": {
     "end_time": "2021-09-28T15:30:14.846850Z",
     "start_time": "2021-09-28T15:30:14.818866Z"
    }
   },
   "outputs": [
    {
     "name": "stdout",
     "output_type": "stream",
     "text": [
      "Training Min Date: 1980-12-02 00:00:00\n",
      "Training Max Date: 2021-05-03 00:00:00\n",
      "\n",
      "Test Min Date: 2021-05-04 00:00:00\n",
      "Test Max Date: 2021-05-11 00:00:00\n"
     ]
    }
   ],
   "source": [
    "# training dataset\n",
    "XN7_train = nike_prep[nike_prep['date'] < '2021-05-04']\n",
    "yN7_train = XN7_train['close']\n",
    "# test dataset\n",
    "XN7_test = nike_prep[nike_prep['date'] >= '2021-05-04']\n",
    "yN7_test = XN7_test['close']\n",
    "\n",
    "print( 'Training Min Date: {}'.format( XN7_train['date'].min() ) )\n",
    "print( 'Training Max Date: {}'.format( XN7_train['date'].max() ) )\n",
    "print( '\\nTest Min Date: {}'.format( XN7_test['date'].min() ) )\n",
    "print( 'Test Max Date: {}'.format( XN7_test['date'].max() ) )"
   ]
  },
  {
   "cell_type": "markdown",
   "metadata": {},
   "source": [
    "#### 30 days split"
   ]
  },
  {
   "cell_type": "code",
   "execution_count": 28,
   "metadata": {
    "ExecuteTime": {
     "end_time": "2021-09-28T15:30:14.862843Z",
     "start_time": "2021-09-28T15:30:14.850848Z"
    }
   },
   "outputs": [
    {
     "data": {
      "text/plain": [
       "Timestamp('2021-04-11 00:00:00')"
      ]
     },
     "execution_count": 28,
     "metadata": {},
     "output_type": "execute_result"
    }
   ],
   "source": [
    "nike_prep['date'].max() - datetime.timedelta(days=30)"
   ]
  },
  {
   "cell_type": "code",
   "execution_count": 29,
   "metadata": {
    "ExecuteTime": {
     "end_time": "2021-09-28T15:30:14.893825Z",
     "start_time": "2021-09-28T15:30:14.866841Z"
    }
   },
   "outputs": [
    {
     "name": "stdout",
     "output_type": "stream",
     "text": [
      "Training Min Date: 1980-12-02 00:00:00\n",
      "Training Max Date: 2021-04-09 00:00:00\n",
      "\n",
      "Test Min Date: 2021-04-12 00:00:00\n",
      "Test Max Date: 2021-05-11 00:00:00\n"
     ]
    }
   ],
   "source": [
    "# training dataset\n",
    "XN30_train = nike_prep[nike_prep['date'] < '2021-04-11']\n",
    "yN30_train = XN30_train['close']\n",
    "# test dataset\n",
    "XN30_test = nike_prep[nike_prep['date'] >= '2021-04-11']\n",
    "yN30_test = XN30_test['close']\n",
    "\n",
    "print( 'Training Min Date: {}'.format( XN30_train['date'].min() ) )\n",
    "print( 'Training Max Date: {}'.format( XN30_train['date'].max() ) )\n",
    "print( '\\nTest Min Date: {}'.format( XN30_test['date'].min() ) )\n",
    "print( 'Test Max Date: {}'.format( XN30_test['date'].max() ) )"
   ]
  },
  {
   "cell_type": "markdown",
   "metadata": {
    "ExecuteTime": {
     "end_time": "2021-09-28T13:07:47.694447Z",
     "start_time": "2021-09-28T13:07:47.691452Z"
    }
   },
   "source": [
    "#### 90 days split"
   ]
  },
  {
   "cell_type": "code",
   "execution_count": 30,
   "metadata": {
    "ExecuteTime": {
     "end_time": "2021-09-28T15:30:14.909814Z",
     "start_time": "2021-09-28T15:30:14.896823Z"
    }
   },
   "outputs": [
    {
     "data": {
      "text/plain": [
       "Timestamp('2021-04-11 00:00:00')"
      ]
     },
     "execution_count": 30,
     "metadata": {},
     "output_type": "execute_result"
    }
   ],
   "source": [
    "nike_prep['date'].max() - datetime.timedelta(days=30)"
   ]
  },
  {
   "cell_type": "code",
   "execution_count": 31,
   "metadata": {
    "ExecuteTime": {
     "end_time": "2021-09-28T15:30:14.940797Z",
     "start_time": "2021-09-28T15:30:14.913813Z"
    }
   },
   "outputs": [
    {
     "name": "stdout",
     "output_type": "stream",
     "text": [
      "Training Min Date: 1980-12-02 00:00:00\n",
      "Training Max Date: 2021-02-09 00:00:00\n",
      "\n",
      "Test Min Date: 2021-02-10 00:00:00\n",
      "Test Max Date: 2021-05-11 00:00:00\n"
     ]
    }
   ],
   "source": [
    "# training dataset\n",
    "XN90_train = nike_prep[nike_prep['date'] < '2021-02-10']\n",
    "yN90_train = XN90_train['close']\n",
    "# test dataset\n",
    "XN90_test = nike_prep[nike_prep['date'] >= '2021-02-10']\n",
    "yN90_test = XN90_test['close']\n",
    "\n",
    "print( 'Training Min Date: {}'.format( XN90_train['date'].min() ) )\n",
    "print( 'Training Max Date: {}'.format( XN90_train['date'].max() ) )\n",
    "print( '\\nTest Min Date: {}'.format( XN90_test['date'].min() ) )\n",
    "print( 'Test Max Date: {}'.format( XN90_test['date'].max() ) )"
   ]
  },
  {
   "cell_type": "markdown",
   "metadata": {},
   "source": [
    "## Feature Selector\n"
   ]
  },
  {
   "cell_type": "markdown",
   "metadata": {},
   "source": [
    "### Boruta"
   ]
  },
  {
   "cell_type": "markdown",
   "metadata": {},
   "source": [
    "#### Apple"
   ]
  },
  {
   "cell_type": "code",
   "execution_count": 32,
   "metadata": {
    "ExecuteTime": {
     "end_time": "2021-09-28T15:39:06.333821Z",
     "start_time": "2021-09-28T15:30:14.943795Z"
    }
   },
   "outputs": [
    {
     "ename": "ValueError",
     "evalue": "could not convert string to float: 'Friday'",
     "output_type": "error",
     "traceback": [
      "\u001b[1;31m---------------------------------------------------------------------------\u001b[0m",
      "\u001b[1;31mValueError\u001b[0m                                Traceback (most recent call last)",
      "\u001b[1;32m<ipython-input-32-c055045a67ef>\u001b[0m in \u001b[0;36m<module>\u001b[1;34m\u001b[0m\n\u001b[0;32m      7\u001b[0m \u001b[1;33m\u001b[0m\u001b[0m\n\u001b[0;32m      8\u001b[0m \u001b[1;31m## define Boruta\u001b[0m\u001b[1;33m\u001b[0m\u001b[1;33m\u001b[0m\u001b[1;33m\u001b[0m\u001b[0m\n\u001b[1;32m----> 9\u001b[1;33m \u001b[0mboruta\u001b[0m \u001b[1;33m=\u001b[0m \u001b[0mBorutaPy\u001b[0m\u001b[1;33m(\u001b[0m \u001b[0mrf\u001b[0m\u001b[1;33m,\u001b[0m \u001b[0mn_estimators\u001b[0m\u001b[1;33m=\u001b[0m\u001b[1;34m'auto'\u001b[0m\u001b[1;33m,\u001b[0m \u001b[0mverbose\u001b[0m\u001b[1;33m=\u001b[0m\u001b[1;36m2\u001b[0m\u001b[1;33m,\u001b[0m \u001b[0mrandom_state\u001b[0m\u001b[1;33m=\u001b[0m\u001b[1;36m42\u001b[0m \u001b[1;33m)\u001b[0m\u001b[1;33m.\u001b[0m\u001b[0mfit\u001b[0m\u001b[1;33m(\u001b[0m\u001b[0mXA1_train_n\u001b[0m\u001b[1;33m,\u001b[0m \u001b[0myA1_train_n\u001b[0m \u001b[1;33m)\u001b[0m\u001b[1;33m\u001b[0m\u001b[1;33m\u001b[0m\u001b[0m\n\u001b[0m",
      "\u001b[1;32m~\\Anaconda3\\lib\\site-packages\\boruta\\boruta_py.py\u001b[0m in \u001b[0;36mfit\u001b[1;34m(self, X, y)\u001b[0m\n\u001b[0;32m    199\u001b[0m         \"\"\"\n\u001b[0;32m    200\u001b[0m \u001b[1;33m\u001b[0m\u001b[0m\n\u001b[1;32m--> 201\u001b[1;33m         \u001b[1;32mreturn\u001b[0m \u001b[0mself\u001b[0m\u001b[1;33m.\u001b[0m\u001b[0m_fit\u001b[0m\u001b[1;33m(\u001b[0m\u001b[0mX\u001b[0m\u001b[1;33m,\u001b[0m \u001b[0my\u001b[0m\u001b[1;33m)\u001b[0m\u001b[1;33m\u001b[0m\u001b[1;33m\u001b[0m\u001b[0m\n\u001b[0m\u001b[0;32m    202\u001b[0m \u001b[1;33m\u001b[0m\u001b[0m\n\u001b[0;32m    203\u001b[0m     \u001b[1;32mdef\u001b[0m \u001b[0mtransform\u001b[0m\u001b[1;33m(\u001b[0m\u001b[0mself\u001b[0m\u001b[1;33m,\u001b[0m \u001b[0mX\u001b[0m\u001b[1;33m,\u001b[0m \u001b[0mweak\u001b[0m\u001b[1;33m=\u001b[0m\u001b[1;32mFalse\u001b[0m\u001b[1;33m)\u001b[0m\u001b[1;33m:\u001b[0m\u001b[1;33m\u001b[0m\u001b[1;33m\u001b[0m\u001b[0m\n",
      "\u001b[1;32m~\\Anaconda3\\lib\\site-packages\\boruta\\boruta_py.py\u001b[0m in \u001b[0;36m_fit\u001b[1;34m(self, X, y)\u001b[0m\n\u001b[0;32m    249\u001b[0m     \u001b[1;32mdef\u001b[0m \u001b[0m_fit\u001b[0m\u001b[1;33m(\u001b[0m\u001b[0mself\u001b[0m\u001b[1;33m,\u001b[0m \u001b[0mX\u001b[0m\u001b[1;33m,\u001b[0m \u001b[0my\u001b[0m\u001b[1;33m)\u001b[0m\u001b[1;33m:\u001b[0m\u001b[1;33m\u001b[0m\u001b[1;33m\u001b[0m\u001b[0m\n\u001b[0;32m    250\u001b[0m         \u001b[1;31m# check input params\u001b[0m\u001b[1;33m\u001b[0m\u001b[1;33m\u001b[0m\u001b[1;33m\u001b[0m\u001b[0m\n\u001b[1;32m--> 251\u001b[1;33m         \u001b[0mself\u001b[0m\u001b[1;33m.\u001b[0m\u001b[0m_check_params\u001b[0m\u001b[1;33m(\u001b[0m\u001b[0mX\u001b[0m\u001b[1;33m,\u001b[0m \u001b[0my\u001b[0m\u001b[1;33m)\u001b[0m\u001b[1;33m\u001b[0m\u001b[1;33m\u001b[0m\u001b[0m\n\u001b[0m\u001b[0;32m    252\u001b[0m         \u001b[0mself\u001b[0m\u001b[1;33m.\u001b[0m\u001b[0mrandom_state\u001b[0m \u001b[1;33m=\u001b[0m \u001b[0mcheck_random_state\u001b[0m\u001b[1;33m(\u001b[0m\u001b[0mself\u001b[0m\u001b[1;33m.\u001b[0m\u001b[0mrandom_state\u001b[0m\u001b[1;33m)\u001b[0m\u001b[1;33m\u001b[0m\u001b[1;33m\u001b[0m\u001b[0m\n\u001b[0;32m    253\u001b[0m         \u001b[1;31m# setup variables for Boruta\u001b[0m\u001b[1;33m\u001b[0m\u001b[1;33m\u001b[0m\u001b[1;33m\u001b[0m\u001b[0m\n",
      "\u001b[1;32m~\\Anaconda3\\lib\\site-packages\\boruta\\boruta_py.py\u001b[0m in \u001b[0;36m_check_params\u001b[1;34m(self, X, y)\u001b[0m\n\u001b[0;32m    515\u001b[0m         \"\"\"\n\u001b[0;32m    516\u001b[0m         \u001b[1;31m# check X and y are consistent len, X is Array and y is column\u001b[0m\u001b[1;33m\u001b[0m\u001b[1;33m\u001b[0m\u001b[1;33m\u001b[0m\u001b[0m\n\u001b[1;32m--> 517\u001b[1;33m         \u001b[0mX\u001b[0m\u001b[1;33m,\u001b[0m \u001b[0my\u001b[0m \u001b[1;33m=\u001b[0m \u001b[0mcheck_X_y\u001b[0m\u001b[1;33m(\u001b[0m\u001b[0mX\u001b[0m\u001b[1;33m,\u001b[0m \u001b[0my\u001b[0m\u001b[1;33m)\u001b[0m\u001b[1;33m\u001b[0m\u001b[1;33m\u001b[0m\u001b[0m\n\u001b[0m\u001b[0;32m    518\u001b[0m         \u001b[1;32mif\u001b[0m \u001b[0mself\u001b[0m\u001b[1;33m.\u001b[0m\u001b[0mperc\u001b[0m \u001b[1;33m<=\u001b[0m \u001b[1;36m0\u001b[0m \u001b[1;32mor\u001b[0m \u001b[0mself\u001b[0m\u001b[1;33m.\u001b[0m\u001b[0mperc\u001b[0m \u001b[1;33m>\u001b[0m \u001b[1;36m100\u001b[0m\u001b[1;33m:\u001b[0m\u001b[1;33m\u001b[0m\u001b[1;33m\u001b[0m\u001b[0m\n\u001b[0;32m    519\u001b[0m             \u001b[1;32mraise\u001b[0m \u001b[0mValueError\u001b[0m\u001b[1;33m(\u001b[0m\u001b[1;34m'The percentile should be between 0 and 100.'\u001b[0m\u001b[1;33m)\u001b[0m\u001b[1;33m\u001b[0m\u001b[1;33m\u001b[0m\u001b[0m\n",
      "\u001b[1;32m~\\Anaconda3\\lib\\site-packages\\sklearn\\utils\\validation.py\u001b[0m in \u001b[0;36minner_f\u001b[1;34m(*args, **kwargs)\u001b[0m\n\u001b[0;32m     70\u001b[0m                           FutureWarning)\n\u001b[0;32m     71\u001b[0m         \u001b[0mkwargs\u001b[0m\u001b[1;33m.\u001b[0m\u001b[0mupdate\u001b[0m\u001b[1;33m(\u001b[0m\u001b[1;33m{\u001b[0m\u001b[0mk\u001b[0m\u001b[1;33m:\u001b[0m \u001b[0marg\u001b[0m \u001b[1;32mfor\u001b[0m \u001b[0mk\u001b[0m\u001b[1;33m,\u001b[0m \u001b[0marg\u001b[0m \u001b[1;32min\u001b[0m \u001b[0mzip\u001b[0m\u001b[1;33m(\u001b[0m\u001b[0msig\u001b[0m\u001b[1;33m.\u001b[0m\u001b[0mparameters\u001b[0m\u001b[1;33m,\u001b[0m \u001b[0margs\u001b[0m\u001b[1;33m)\u001b[0m\u001b[1;33m}\u001b[0m\u001b[1;33m)\u001b[0m\u001b[1;33m\u001b[0m\u001b[1;33m\u001b[0m\u001b[0m\n\u001b[1;32m---> 72\u001b[1;33m         \u001b[1;32mreturn\u001b[0m \u001b[0mf\u001b[0m\u001b[1;33m(\u001b[0m\u001b[1;33m**\u001b[0m\u001b[0mkwargs\u001b[0m\u001b[1;33m)\u001b[0m\u001b[1;33m\u001b[0m\u001b[1;33m\u001b[0m\u001b[0m\n\u001b[0m\u001b[0;32m     73\u001b[0m     \u001b[1;32mreturn\u001b[0m \u001b[0minner_f\u001b[0m\u001b[1;33m\u001b[0m\u001b[1;33m\u001b[0m\u001b[0m\n\u001b[0;32m     74\u001b[0m \u001b[1;33m\u001b[0m\u001b[0m\n",
      "\u001b[1;32m~\\Anaconda3\\lib\\site-packages\\sklearn\\utils\\validation.py\u001b[0m in \u001b[0;36mcheck_X_y\u001b[1;34m(X, y, accept_sparse, accept_large_sparse, dtype, order, copy, force_all_finite, ensure_2d, allow_nd, multi_output, ensure_min_samples, ensure_min_features, y_numeric, estimator)\u001b[0m\n\u001b[0;32m    793\u001b[0m         \u001b[1;32mraise\u001b[0m \u001b[0mValueError\u001b[0m\u001b[1;33m(\u001b[0m\u001b[1;34m\"y cannot be None\"\u001b[0m\u001b[1;33m)\u001b[0m\u001b[1;33m\u001b[0m\u001b[1;33m\u001b[0m\u001b[0m\n\u001b[0;32m    794\u001b[0m \u001b[1;33m\u001b[0m\u001b[0m\n\u001b[1;32m--> 795\u001b[1;33m     X = check_array(X, accept_sparse=accept_sparse,\n\u001b[0m\u001b[0;32m    796\u001b[0m                     \u001b[0maccept_large_sparse\u001b[0m\u001b[1;33m=\u001b[0m\u001b[0maccept_large_sparse\u001b[0m\u001b[1;33m,\u001b[0m\u001b[1;33m\u001b[0m\u001b[1;33m\u001b[0m\u001b[0m\n\u001b[0;32m    797\u001b[0m                     \u001b[0mdtype\u001b[0m\u001b[1;33m=\u001b[0m\u001b[0mdtype\u001b[0m\u001b[1;33m,\u001b[0m \u001b[0morder\u001b[0m\u001b[1;33m=\u001b[0m\u001b[0morder\u001b[0m\u001b[1;33m,\u001b[0m \u001b[0mcopy\u001b[0m\u001b[1;33m=\u001b[0m\u001b[0mcopy\u001b[0m\u001b[1;33m,\u001b[0m\u001b[1;33m\u001b[0m\u001b[1;33m\u001b[0m\u001b[0m\n",
      "\u001b[1;32m~\\Anaconda3\\lib\\site-packages\\sklearn\\utils\\validation.py\u001b[0m in \u001b[0;36minner_f\u001b[1;34m(*args, **kwargs)\u001b[0m\n\u001b[0;32m     70\u001b[0m                           FutureWarning)\n\u001b[0;32m     71\u001b[0m         \u001b[0mkwargs\u001b[0m\u001b[1;33m.\u001b[0m\u001b[0mupdate\u001b[0m\u001b[1;33m(\u001b[0m\u001b[1;33m{\u001b[0m\u001b[0mk\u001b[0m\u001b[1;33m:\u001b[0m \u001b[0marg\u001b[0m \u001b[1;32mfor\u001b[0m \u001b[0mk\u001b[0m\u001b[1;33m,\u001b[0m \u001b[0marg\u001b[0m \u001b[1;32min\u001b[0m \u001b[0mzip\u001b[0m\u001b[1;33m(\u001b[0m\u001b[0msig\u001b[0m\u001b[1;33m.\u001b[0m\u001b[0mparameters\u001b[0m\u001b[1;33m,\u001b[0m \u001b[0margs\u001b[0m\u001b[1;33m)\u001b[0m\u001b[1;33m}\u001b[0m\u001b[1;33m)\u001b[0m\u001b[1;33m\u001b[0m\u001b[1;33m\u001b[0m\u001b[0m\n\u001b[1;32m---> 72\u001b[1;33m         \u001b[1;32mreturn\u001b[0m \u001b[0mf\u001b[0m\u001b[1;33m(\u001b[0m\u001b[1;33m**\u001b[0m\u001b[0mkwargs\u001b[0m\u001b[1;33m)\u001b[0m\u001b[1;33m\u001b[0m\u001b[1;33m\u001b[0m\u001b[0m\n\u001b[0m\u001b[0;32m     73\u001b[0m     \u001b[1;32mreturn\u001b[0m \u001b[0minner_f\u001b[0m\u001b[1;33m\u001b[0m\u001b[1;33m\u001b[0m\u001b[0m\n\u001b[0;32m     74\u001b[0m \u001b[1;33m\u001b[0m\u001b[0m\n",
      "\u001b[1;32m~\\Anaconda3\\lib\\site-packages\\sklearn\\utils\\validation.py\u001b[0m in \u001b[0;36mcheck_array\u001b[1;34m(array, accept_sparse, accept_large_sparse, dtype, order, copy, force_all_finite, ensure_2d, allow_nd, ensure_min_samples, ensure_min_features, estimator)\u001b[0m\n\u001b[0;32m    596\u001b[0m                     \u001b[0marray\u001b[0m \u001b[1;33m=\u001b[0m \u001b[0marray\u001b[0m\u001b[1;33m.\u001b[0m\u001b[0mastype\u001b[0m\u001b[1;33m(\u001b[0m\u001b[0mdtype\u001b[0m\u001b[1;33m,\u001b[0m \u001b[0mcasting\u001b[0m\u001b[1;33m=\u001b[0m\u001b[1;34m\"unsafe\"\u001b[0m\u001b[1;33m,\u001b[0m \u001b[0mcopy\u001b[0m\u001b[1;33m=\u001b[0m\u001b[1;32mFalse\u001b[0m\u001b[1;33m)\u001b[0m\u001b[1;33m\u001b[0m\u001b[1;33m\u001b[0m\u001b[0m\n\u001b[0;32m    597\u001b[0m                 \u001b[1;32melse\u001b[0m\u001b[1;33m:\u001b[0m\u001b[1;33m\u001b[0m\u001b[1;33m\u001b[0m\u001b[0m\n\u001b[1;32m--> 598\u001b[1;33m                     \u001b[0marray\u001b[0m \u001b[1;33m=\u001b[0m \u001b[0mnp\u001b[0m\u001b[1;33m.\u001b[0m\u001b[0masarray\u001b[0m\u001b[1;33m(\u001b[0m\u001b[0marray\u001b[0m\u001b[1;33m,\u001b[0m \u001b[0morder\u001b[0m\u001b[1;33m=\u001b[0m\u001b[0morder\u001b[0m\u001b[1;33m,\u001b[0m \u001b[0mdtype\u001b[0m\u001b[1;33m=\u001b[0m\u001b[0mdtype\u001b[0m\u001b[1;33m)\u001b[0m\u001b[1;33m\u001b[0m\u001b[1;33m\u001b[0m\u001b[0m\n\u001b[0m\u001b[0;32m    599\u001b[0m             \u001b[1;32mexcept\u001b[0m \u001b[0mComplexWarning\u001b[0m\u001b[1;33m:\u001b[0m\u001b[1;33m\u001b[0m\u001b[1;33m\u001b[0m\u001b[0m\n\u001b[0;32m    600\u001b[0m                 raise ValueError(\"Complex data not supported\\n\"\n",
      "\u001b[1;31mValueError\u001b[0m: could not convert string to float: 'Friday'"
     ]
    }
   ],
   "source": [
    "## training and test dataset for Boruta\n",
    "XA1_train_n = XA1_train.drop( ['date', 'close'], axis=1 ).values\n",
    "yA1_train_n = yA1_train.values.ravel()\n",
    "\n",
    "## define RandomForestRegressor\n",
    "rf = RandomForestRegressor( n_jobs=-1 )\n",
    "\n",
    "## define Boruta\n",
    "boruta = BorutaPy( rf, n_estimators='auto', verbose=2, random_state=42 ).fit(XA1_train_n, yA1_train_n )\n"
   ]
  },
  {
   "cell_type": "markdown",
   "metadata": {
    "ExecuteTime": {
     "end_time": "2021-09-28T14:03:54.111034Z",
     "start_time": "2021-09-28T14:03:54.097042Z"
    }
   },
   "source": [
    " ##### Best Features"
   ]
  },
  {
   "cell_type": "code",
   "execution_count": null,
   "metadata": {
    "ExecuteTime": {
     "end_time": "2021-09-28T15:39:06.363846Z",
     "start_time": "2021-09-28T15:39:06.339861Z"
    }
   },
   "outputs": [],
   "source": [
    "cols_selected = boruta.support_.tolist()\n",
    "\n",
    "## best features\n",
    "XA1_train_fs = XA1_train.drop( ['date', 'close'], axis=1 )\n",
    "\n",
    "cols_selected_boruta = XA1_train_fs.iloc[:, cols_selected].columns.to_list()\n",
    "cols_selected_boruta"
   ]
  },
  {
   "cell_type": "code",
   "execution_count": null,
   "metadata": {
    "ExecuteTime": {
     "end_time": "2021-09-28T15:39:06.393880Z",
     "start_time": "2021-09-28T15:39:06.372839Z"
    }
   },
   "outputs": [],
   "source": [
    "## not selected boruta\n",
    "cols_not_selected_boruta = list( np.setdiff1d( XA1_train_fs.columns,cols_selected_boruta ) )\n",
    "cols_not_selected_boruta"
   ]
  },
  {
   "cell_type": "markdown",
   "metadata": {
    "ExecuteTime": {
     "end_time": "2021-09-28T14:28:10.787720Z",
     "start_time": "2021-09-28T14:28:10.776709Z"
    }
   },
   "source": [
    "#### Manual Feature Selection"
   ]
  },
  {
   "cell_type": "code",
   "execution_count": null,
   "metadata": {
    "ExecuteTime": {
     "end_time": "2021-09-28T15:39:06.424864Z",
     "start_time": "2021-09-28T15:39:06.407871Z"
    },
    "code_folding": []
   },
   "outputs": [],
   "source": [
    "cols_selected_boruta = [\n",
    "'open',\n",
    " 'high',\n",
    " 'low',\n",
    " 'adj_close',\n",
    " 'close_open_variation',\n",
    " 'moving_average_10',\n",
    " 'moving_average_15',\n",
    " 'moving_average_50',\n",
    " 'month_cos',\n",
    " 'week_of_year_sin',\n",
    " 'week_of_year_cos']\n"
   ]
  },
  {
   "cell_type": "markdown",
   "metadata": {},
   "source": [
    "### Boeing"
   ]
  },
  {
   "cell_type": "markdown",
   "metadata": {},
   "source": [
    "### Nike"
   ]
  },
  {
   "cell_type": "code",
   "execution_count": null,
   "metadata": {},
   "outputs": [],
   "source": []
  }
 ],
 "metadata": {
  "kernelspec": {
   "display_name": "Python 3",
   "language": "python",
   "name": "python3"
  },
  "language_info": {
   "codemirror_mode": {
    "name": "ipython",
    "version": 3
   },
   "file_extension": ".py",
   "mimetype": "text/x-python",
   "name": "python",
   "nbconvert_exporter": "python",
   "pygments_lexer": "ipython3",
   "version": "3.8.5"
  },
  "toc": {
   "base_numbering": 1,
   "nav_menu": {},
   "number_sections": true,
   "sideBar": true,
   "skip_h1_title": false,
   "title_cell": "Table of Contents",
   "title_sidebar": "Contents",
   "toc_cell": false,
   "toc_position": {},
   "toc_section_display": true,
   "toc_window_display": false
  }
 },
 "nbformat": 4,
 "nbformat_minor": 4
}
